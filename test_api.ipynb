{
 "cells": [
  {
   "cell_type": "markdown",
   "id": "floating-share",
   "metadata": {},
   "source": [
    "# team YBIGTA "
   ]
  },
  {
   "cell_type": "markdown",
   "id": "interracial-paragraph",
   "metadata": {},
   "source": [
    "## TEXT, IMAGE, AUDIO 감정분석 API 이용법\n",
    "\n",
    "누구나 사용할 수 있습니다 :)"
   ]
  },
  {
   "cell_type": "code",
   "execution_count": 28,
   "id": "tropical-bhutan",
   "metadata": {},
   "outputs": [],
   "source": [
    "import requests as r\n",
    "import time\n",
    "import json\n",
    "now = time.strftime('%Y-%m-%d %H:%M:%S')"
   ]
  },
  {
   "cell_type": "code",
   "execution_count": 29,
   "id": "according-wisconsin",
   "metadata": {},
   "outputs": [],
   "source": [
    "api_url = \"http://ec2co-ecsel-f2k8u3ar7ixb-1602496836.ap-northeast-2.elb.amazonaws.com:8000/\""
   ]
  },
  {
   "cell_type": "markdown",
   "id": "mathematical-cloud",
   "metadata": {},
   "source": [
    "## text"
   ]
  },
  {
   "cell_type": "markdown",
   "id": "phantom-agent",
   "metadata": {},
   "source": [
    "#### 요청 보내기\n",
    "\n",
    "요청 내용이 분석될 때까지 기다리지 않고 바로 id를 부여받아 언제든지 결과를 조회해 볼 수 있습니다"
   ]
  },
  {
   "cell_type": "code",
   "execution_count": 30,
   "id": "complicated-cornwall",
   "metadata": {},
   "outputs": [
    {
     "name": "stdout",
     "output_type": "stream",
     "text": [
      "Your project is accepted. ID:  244\n"
     ]
    }
   ],
   "source": [
    "text = \"I'm happy today! Good!!\"\n",
    "request_body = {\n",
    "    \"project_type\": \"kpmg_test\",\n",
    "    \"data\": {\n",
    "        \"type\": \"text\",\n",
    "        \"create_date_time\": now,\n",
    "        \"content\": text\n",
    "    }\n",
    "}\n",
    "response = r.post(api_url + \"emotion-check/text\", data=json.dumps(request_body)).json()\n",
    "project_id = response[\"project_id\"]\n",
    "print(\"Your project is accepted. ID: \", project_id)"
   ]
  },
  {
   "cell_type": "markdown",
   "id": "considered-shareware",
   "metadata": {},
   "source": [
    "#### 요청 상태 조회하기"
   ]
  },
  {
   "cell_type": "code",
   "execution_count": 31,
   "id": "afraid-column",
   "metadata": {},
   "outputs": [
    {
     "name": "stdout",
     "output_type": "stream",
     "text": [
      "Your request is in 'DONE' status.\n"
     ]
    }
   ],
   "source": [
    "request_body = {\"project_id\": project_id}\n",
    "response = r.post(api_url + \"emotion-check/status\", data=json.dumps(request_body))\n",
    "status = response.json()[\"status\"]\n",
    "print(f\"Your request is in '{status}' status.\")"
   ]
  },
  {
   "cell_type": "markdown",
   "id": "genetic-surface",
   "metadata": {},
   "source": [
    "#### 분석 결과 요청하기"
   ]
  },
  {
   "cell_type": "code",
   "execution_count": 32,
   "id": "patient-demonstration",
   "metadata": {},
   "outputs": [
    {
     "data": {
      "text/plain": [
       "{'create_date_time': '2021-02-23T14:14:42',\n",
       " 'type': 'kpmg_test',\n",
       " 'model_result': {'labels': 'joy', 'scores': 0.999094},\n",
       " 'word_count': {'happy': 1, 'today': 1, 'Good': 1},\n",
       " 'sentence_count': 3}"
      ]
     },
     "execution_count": 32,
     "metadata": {},
     "output_type": "execute_result"
    }
   ],
   "source": [
    "request_body = {\"project_id\": project_id}\n",
    "response = r.post(api_url + \"emotion-result/text\", data=json.dumps(request_body))\n",
    "result = response.json()\n",
    "result\n"
   ]
  },
  {
   "cell_type": "markdown",
   "id": "brown-banking",
   "metadata": {},
   "source": [
    "## image\n",
    "\n",
    "\n",
    "### face - image"
   ]
  },
  {
   "cell_type": "code",
   "execution_count": 33,
   "id": "seventh-navigation",
   "metadata": {},
   "outputs": [
    {
     "name": "stdout",
     "output_type": "stream",
     "text": [
      "{'project_id': 245}\n",
      "Your project is accepted. ID:  245\n"
     ]
    }
   ],
   "source": [
    "img_url = \"https://pbs.twimg.com/media/Eupl3kNUcAMnc4y?format=jpg&name=large\"\n",
    "request_body = {\n",
    "    \"project_type\": \"kpmg_test\",\n",
    "    \"data\": {\n",
    "        \"type\": \"photo\",\n",
    "        \"create_date_time\": now,\n",
    "        \"content\": img_url\n",
    "    }\n",
    "}\n",
    "response = r.post(api_url + \"emotion-check/image\", data=json.dumps(request_body)).json()\n",
    "print(response)\n",
    "project_id = response[\"project_id\"]\n",
    "print(\"Your project is accepted. ID: \", project_id)"
   ]
  },
  {
   "cell_type": "markdown",
   "id": "detailed-stuff",
   "metadata": {},
   "source": [
    "#### 요청 상태 조회하기"
   ]
  },
  {
   "cell_type": "code",
   "execution_count": 35,
   "id": "sunset-unknown",
   "metadata": {},
   "outputs": [
    {
     "name": "stdout",
     "output_type": "stream",
     "text": [
      "Your request is in 'DONE' status.\n"
     ]
    }
   ],
   "source": [
    "request_body = {\"project_id\": project_id}\n",
    "response = r.post(api_url + \"emotion-check/status\", data=json.dumps(request_body))\n",
    "status = response.json()[\"status\"]\n",
    "print(f\"Your request is in '{status}' status.\")"
   ]
  },
  {
   "cell_type": "markdown",
   "id": "grave-donna",
   "metadata": {},
   "source": [
    "#### 분석 결과 요청하기"
   ]
  },
  {
   "cell_type": "code",
   "execution_count": 36,
   "id": "worse-helicopter",
   "metadata": {},
   "outputs": [
    {
     "data": {
      "text/plain": [
       "{'create_date_time': '2021-02-23T14:14:42',\n",
       " 'type': 'photo',\n",
       " 'face': True,\n",
       " 'model_result': {'emotions': 'Sad',\n",
       "  'affects': [-0.2775367200374603, 0.5073344111442566]}}"
      ]
     },
     "execution_count": 36,
     "metadata": {},
     "output_type": "execute_result"
    }
   ],
   "source": [
    "\n",
    "request_body = {\"project_id\": project_id}\n",
    "response = r.post(api_url + \"emotion-result/photo\", data=json.dumps(request_body))\n",
    "result = response.json()\n",
    "result"
   ]
  },
  {
   "cell_type": "code",
   "execution_count": null,
   "id": "announced-venture",
   "metadata": {},
   "outputs": [],
   "source": []
  },
  {
   "cell_type": "code",
   "execution_count": 37,
   "id": "transsexual-sewing",
   "metadata": {},
   "outputs": [
    {
     "name": "stdout",
     "output_type": "stream",
     "text": [
      "{'project_id': 246}\n",
      "Your project is accepted. ID:  246\n"
     ]
    }
   ],
   "source": [
    "img_url = \"https://www.goodtherapy.org/blog/blog/wp-content/uploads/2014/12/man-with-head-down.jpg\"\n",
    "request_body = {\n",
    "    \"project_type\": \"kpmg_test\",\n",
    "    \"data\": {\n",
    "        \"type\": \"photo\",\n",
    "        \"create_date_time\": now,\n",
    "        \"content\": img_url\n",
    "    }\n",
    "}\n",
    "response = r.post(api_url + \"emotion-check/image\", data=json.dumps(request_body)).json()\n",
    "print(response)\n",
    "project_id = response[\"project_id\"]\n",
    "print(\"Your project is accepted. ID: \", project_id)"
   ]
  },
  {
   "cell_type": "code",
   "execution_count": 39,
   "id": "floating-migration",
   "metadata": {},
   "outputs": [
    {
     "name": "stdout",
     "output_type": "stream",
     "text": [
      "Your request is in 'DONE' status.\n"
     ]
    }
   ],
   "source": [
    "request_body = {\"project_id\": project_id}\n",
    "response = r.post(api_url + \"emotion-check/status\", data=json.dumps(request_body))\n",
    "status = response.json()[\"status\"]\n",
    "print(f\"Your request is in '{status}' status.\")"
   ]
  },
  {
   "cell_type": "code",
   "execution_count": 40,
   "id": "finite-presence",
   "metadata": {},
   "outputs": [
    {
     "data": {
      "text/plain": [
       "{'create_date_time': '2021-02-23T14:14:42',\n",
       " 'type': 'photo',\n",
       " 'face': False,\n",
       " 'model_result': [[0.24860873818397522,\n",
       "   0.19321349263191223,\n",
       "   0.5581778287887573]]}"
      ]
     },
     "execution_count": 40,
     "metadata": {},
     "output_type": "execute_result"
    }
   ],
   "source": [
    "request_body = {\"project_id\": project_id}\n",
    "response = r.post(api_url + \"emotion-result/photo\", data=json.dumps(request_body))\n",
    "result = response.json()\n",
    "result"
   ]
  },
  {
   "cell_type": "code",
   "execution_count": null,
   "id": "warming-exhibit",
   "metadata": {},
   "outputs": [],
   "source": []
  }
 ],
 "metadata": {
  "kernelspec": {
   "display_name": "Python 3",
   "language": "python",
   "name": "python3"
  },
  "language_info": {
   "codemirror_mode": {
    "name": "ipython",
    "version": 3
   },
   "file_extension": ".py",
   "mimetype": "text/x-python",
   "name": "python",
   "nbconvert_exporter": "python",
   "pygments_lexer": "ipython3",
   "version": "3.8.2"
  }
 },
 "nbformat": 4,
 "nbformat_minor": 5
}
