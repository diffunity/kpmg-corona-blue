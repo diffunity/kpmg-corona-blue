{
 "cells": [
  {
   "cell_type": "markdown",
   "id": "former-motivation",
   "metadata": {},
   "source": [
    "# team YBIGTA "
   ]
  },
  {
   "cell_type": "markdown",
   "id": "special-given",
   "metadata": {},
   "source": [
    "## TEXT, IMAGE, AUDIO 감정분석 API 이용법"
   ]
  },
  {
   "cell_type": "code",
   "execution_count": 7,
   "id": "funded-kitchen",
   "metadata": {},
   "outputs": [],
   "source": [
    "import requests as r\n",
    "import time\n",
    "import json\n",
    "now = time.strftime('%Y-%m-%d %H:%M:%S')"
   ]
  },
  {
   "cell_type": "code",
   "execution_count": 3,
   "id": "imperial-ballot",
   "metadata": {},
   "outputs": [],
   "source": [
    "api_url = \"http://ec2co-ecsel-f2k8u3ar7ixb-1602496836.ap-northeast-2.elb.amazonaws.com:8000/\""
   ]
  },
  {
   "cell_type": "markdown",
   "id": "superb-aberdeen",
   "metadata": {},
   "source": [
    "### text"
   ]
  },
  {
   "cell_type": "markdown",
   "id": "local-gasoline",
   "metadata": {},
   "source": [
    "#### 요청 보내기\n",
    "\n",
    "요청 내용이 분석될 때까지 기다리지 않고 바로 id를 부여받아 언제든지 결과를 조회해 볼 수 있습니다"
   ]
  },
  {
   "cell_type": "code",
   "execution_count": 11,
   "id": "egyptian-currency",
   "metadata": {},
   "outputs": [
    {
     "name": "stdout",
     "output_type": "stream",
     "text": [
      "감정분석할 문장을 입력하세요: 오늘은 마라탕을 가득 먹었어요. 너무 맛있었어요. 오예~\n",
      "Your project is accepted. ID:  161\n"
     ]
    }
   ],
   "source": [
    "text = input(\"감정분석할 문장을 입력하세요: \")\n",
    "request_body = {\n",
    "    \"project_type\": \"kpmg_test\",\n",
    "    \"data\": {\n",
    "        \"type\": \"text\",\n",
    "        \"create_date_time\": now,\n",
    "        \"content\": text\n",
    "    }\n",
    "}\n",
    "response = r.post(api_url + \"emotion-check/text\", data=json.dumps(request_body)).json()\n",
    "project_id = response[\"project_id\"]\n",
    "print(\"Your project is accepted. ID: \", project_id)"
   ]
  },
  {
   "cell_type": "markdown",
   "id": "complete-chess",
   "metadata": {},
   "source": [
    "#### 요청 상태 조회하기"
   ]
  },
  {
   "cell_type": "code",
   "execution_count": 20,
   "id": "through-scholarship",
   "metadata": {},
   "outputs": [
    {
     "name": "stdout",
     "output_type": "stream",
     "text": [
      "Your request is in 'DONE' status.\n"
     ]
    }
   ],
   "source": [
    "request_body = {\"project_id\": project_id}\n",
    "response = r.post(api_url + \"emotion-check/status\", data=json.dumps(request_body))\n",
    "status = response.json()[\"status\"]\n",
    "print(f\"Your request is in '{status}' status.\")"
   ]
  },
  {
   "cell_type": "markdown",
   "id": "individual-american",
   "metadata": {},
   "source": [
    "#### 분석 결과 요청하기"
   ]
  },
  {
   "cell_type": "code",
   "execution_count": 25,
   "id": "altered-ranch",
   "metadata": {},
   "outputs": [
    {
     "name": "stdout",
     "output_type": "stream",
     "text": [
      "The Result of your request: {'create_date_time': '2021-02-22T19:14:33', 'type': 'kpmg_test', 'model_result': {'labels': 'neutral', 'scores': 0.9922212}, 'word_count': {}, 'sentence_count': 3}\n"
     ]
    }
   ],
   "source": [
    "request_body = {\"project_id\": project_id}\n",
    "response = r.post(api_url + \"emotion-result/text\", data=json.dumps(request_body))\n",
    "result = response.json()\n",
    "print(f\"The Result of your request: {result}\")"
   ]
  },
  {
   "cell_type": "code",
   "execution_count": null,
   "id": "agricultural-sodium",
   "metadata": {},
   "outputs": [],
   "source": []
  },
  {
   "cell_type": "code",
   "execution_count": null,
   "id": "actual-classification",
   "metadata": {},
   "outputs": [],
   "source": []
  }
 ],
 "metadata": {
  "kernelspec": {
   "display_name": "Python 3",
   "language": "python",
   "name": "python3"
  },
  "language_info": {
   "codemirror_mode": {
    "name": "ipython",
    "version": 3
   },
   "file_extension": ".py",
   "mimetype": "text/x-python",
   "name": "python",
   "nbconvert_exporter": "python",
   "pygments_lexer": "ipython3",
   "version": "3.8.2"
  }
 },
 "nbformat": 4,
 "nbformat_minor": 5
}
